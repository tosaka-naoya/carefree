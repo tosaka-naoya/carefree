{
  "nbformat": 4,
  "nbformat_minor": 0,
  "metadata": {
    "colab": {
      "name": "線形計画法の練習5.ipynb",
      "provenance": [],
      "authorship_tag": "ABX9TyOcehdcd2Fxpg6fpkWJ9Ovh",
      "include_colab_link": true
    },
    "kernelspec": {
      "name": "python3",
      "display_name": "Python 3"
    },
    "language_info": {
      "name": "python"
    }
  },
  "cells": [
    {
      "cell_type": "markdown",
      "metadata": {
        "id": "view-in-github",
        "colab_type": "text"
      },
      "source": [
        "<a href=\"https://colab.research.google.com/github/tosaka-naoya/carefree/blob/main/%E7%B7%9A%E5%BD%A2%E8%A8%88%E7%94%BB%E6%B3%95%E3%81%AE%E7%B7%B4%E7%BF%925.ipynb\" target=\"_parent\"><img src=\"https://colab.research.google.com/assets/colab-badge.svg\" alt=\"Open In Colab\"/></a>"
      ]
    },
    {
      "cell_type": "code",
      "metadata": {
        "colab": {
          "base_uri": "https://localhost:8080/"
        },
        "id": "66_IwSS38frC",
        "outputId": "a5547590-4939-4bb1-9b93-8790be8ad1db"
      },
      "source": [
        "#ライブラリのインポート\n",
        "!pip install pulp\n",
        "import pulp\n",
        "from pulp import LpVariable, value, lpSum\n",
        "\n",
        "#変数の和\n",
        "for i in [1000,2000,5000]:\n",
        "    v = [LpVariable('x%d'%i) for i in range(i)]\n",
        "    print(i)\n",
        "    %timeit lpSum(v)\n",
        "    %timeit sum(v)"
      ],
      "execution_count": 1,
      "outputs": [
        {
          "output_type": "stream",
          "text": [
            "Requirement already satisfied: pulp in /usr/local/lib/python3.7/dist-packages (2.4)\n",
            "Requirement already satisfied: amply>=0.1.2 in /usr/local/lib/python3.7/dist-packages (from pulp) (0.1.4)\n",
            "Requirement already satisfied: pyparsing in /usr/local/lib/python3.7/dist-packages (from amply>=0.1.2->pulp) (2.4.7)\n",
            "Requirement already satisfied: docutils>=0.3 in /usr/local/lib/python3.7/dist-packages (from amply>=0.1.2->pulp) (0.17.1)\n",
            "1000\n",
            "1000 loops, best of 5: 875 µs per loop\n",
            "1 loop, best of 5: 248 ms per loop\n",
            "2000\n",
            "1000 loops, best of 5: 1.76 ms per loop\n",
            "1 loop, best of 5: 1.01 s per loop\n",
            "5000\n",
            "100 loops, best of 5: 4.58 ms per loop\n",
            "1 loop, best of 5: 6.79 s per loop\n"
          ],
          "name": "stdout"
        }
      ]
    },
    {
      "cell_type": "code",
      "metadata": {
        "colab": {
          "base_uri": "https://localhost:8080/",
          "height": 265
        },
        "id": "qgtjq2ob9M0e",
        "outputId": "5f2cb22b-163b-4440-8416-85e89c4aabed"
      },
      "source": [
        "#ライブラリのインポート\n",
        "import matplotlib.pyplot as plt\n",
        "\n",
        "#グラフ描画\n",
        "fig, ax1 = plt.subplots()\n",
        "ax2 = ax1.twinx()\n",
        "ax1.plot([0,1000,2000,5000], [0,0.879,1.78,4.53], label='lpSum')\n",
        "ax2.plot([0,1000,2000,5000], [0,247,1000,6660], label='sum', color='red')\n",
        "ax1.legend(loc='center left')\n",
        "ax2.legend(loc='center right');"
      ],
      "execution_count": 2,
      "outputs": [
        {
          "output_type": "display_data",
          "data": {
            "image/png": "[encoded data removed]",
            "text/plain": [
              "<Figure size 432x288 with 2 Axes>"
            ]
          },
          "metadata": {
            "tags": [],
            "needs_background": "light"
          }
        }
      ]
    },
    {
      "cell_type": "markdown",
      "metadata": {
        "id": "h3NlwMzv_Ibg"
      },
      "source": [
        "このサイトの練習問題を少しアレンジして写経\n",
        "https://qiita.com/SaitoTsutomu/items/6701841122acc3130a29"
      ]
    },
    {
      "cell_type": "code",
      "metadata": {
        "id": "FZwD1Nvr_UR1"
      },
      "source": [
        ""
      ],
      "execution_count": 2,
      "outputs": []
    }
  ]
}
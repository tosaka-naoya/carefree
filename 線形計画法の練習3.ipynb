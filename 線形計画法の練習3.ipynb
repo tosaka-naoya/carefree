{
  "nbformat": 4,
  "nbformat_minor": 0,
  "metadata": {
    "colab": {
      "name": "線形計画法の練習3.ipynb",
      "provenance": [],
      "collapsed_sections": [],
      "authorship_tag": "ABX9TyMCJCW8/HmW5GJLTN+On7v1",
      "include_colab_link": true
    },
    "kernelspec": {
      "name": "python3",
      "display_name": "Python 3"
    },
    "language_info": {
      "name": "python"
    }
  },
  "cells": [
    {
      "cell_type": "markdown",
      "metadata": {
        "id": "view-in-github",
        "colab_type": "text"
      },
      "source": [
        "<a href=\"https://colab.research.google.com/github/tosaka-naoya/carefree/blob/main/%E7%B7%9A%E5%BD%A2%E8%A8%88%E7%94%BB%E6%B3%95%E3%81%AE%E7%B7%B4%E7%BF%923.ipynb\" target=\"_parent\"><img src=\"https://colab.research.google.com/assets/colab-badge.svg\" alt=\"Open In Colab\"/></a>"
      ]
    },
    {
      "cell_type": "code",
      "metadata": {
        "colab": {
          "base_uri": "https://localhost:8080/"
        },
        "id": "Nez66ozQjEpz",
        "outputId": "746aea24-a342-42e8-fd44-3f7b259d0f18"
      },
      "source": [
        "#ライブラリのインストール\n",
        "!pip install pulp\n",
        "import pulp\n",
        "from pulp import *\n",
        "\n",
        "#問題の定義\n",
        "m = LpProblem(name=\"XとYの価格の合計最大化\", sense=LpMaximize)\n",
        "\n",
        "#変数の定義\n",
        "x = LpVariable(\"x\", lowBound=0, cat=\"Integer\")\n",
        "y = LpVariable(\"y\", lowBound=0, cat=\"Integer\")\n",
        "\n",
        "#目的関数の定義\n",
        "m += 100*x + 100*y\n",
        "\n",
        "#制約条件の定義\n",
        "m += x + 2*y <= 16\n",
        "m += 3*x + y <= 18\n",
        "\n",
        "#ソルバーの実装\n",
        "m.solve()\n",
        "\n",
        "#解の表示\n",
        "print()\n",
        "print(\"x:\", value(x), \" \", \"y:\", value(y))"
      ],
      "execution_count": 1,
      "outputs": [
        {
          "output_type": "stream",
          "text": [
            "Requirement already satisfied: pulp in /usr/local/lib/python3.7/dist-packages (2.4)\n",
            "Requirement already satisfied: amply>=0.1.2 in /usr/local/lib/python3.7/dist-packages (from pulp) (0.1.4)\n",
            "Requirement already satisfied: docutils>=0.3 in /usr/local/lib/python3.7/dist-packages (from amply>=0.1.2->pulp) (0.17.1)\n",
            "Requirement already satisfied: pyparsing in /usr/local/lib/python3.7/dist-packages (from amply>=0.1.2->pulp) (2.4.7)\n",
            "\n",
            "x: 4.0   y: 6.0\n"
          ],
          "name": "stdout"
        }
      ]
    },
    {
      "cell_type": "code",
      "metadata": {
        "id": "jT_YfUGcUDZz"
      },
      "source": [
        "#ライブラリのインポート\n",
        "import numpy as np\n",
        "import pandas as pd\n",
        "from itertools import product\n",
        "\n",
        "#パラメータの設定\n",
        "np.random.seed(1)\n",
        "nw, nf = 3, 4\n",
        "pr = list(product(range(nw),range(nf)))\n",
        "Supply = np.random.randint(30, 50, nw)\n",
        "Demand = np.random.randint(20, 30, nf)\n",
        "Transport_Cost = np.random.randint(10, 20, (nw,nf))"
      ],
      "execution_count": 2,
      "outputs": []
    },
    {
      "cell_type": "code",
      "metadata": {
        "colab": {
          "base_uri": "https://localhost:8080/"
        },
        "id": "GpD5XT9TVmz8",
        "outputId": "d0027597-5ea0-4625-f872-ab51fa7ee66d"
      },
      "source": [
        "#pandasを使わない場合\n",
        "\n",
        "#問題の定義\n",
        "m1 = LpProblem()\n",
        "\n",
        "#変数の定義\n",
        "v1 = {(i,j):LpVariable('v%d_%d'%(i,j), lowBound=0) for i,j in pr}\n",
        "\n",
        "#目的関数の定義\n",
        "m1 += lpSum(Transport_Cost[i][j] * v1[i,j] for i,j in pr)\n",
        "\n",
        "#制約条件の定義\n",
        "for i in range(nw):\n",
        "  m1 += lpSum(v1[i,j] for j in range(nf)) <= Supply[i]\n",
        "for j in range(nf):\n",
        "  m1 += lpSum(v1[i,j] for i in range(nw)) >= Demand[j]\n",
        "\n",
        "#ソルバーの実装\n",
        "m1.solve()\n",
        "\n",
        "#結果表示\n",
        "{k:value(x) for k,x in v1.items() if value(x) > 0}"
      ],
      "execution_count": 3,
      "outputs": [
        {
          "output_type": "execute_result",
          "data": {
            "text/plain": [
              "{(0, 0): 28.0,\n",
              " (0, 1): 7.0,\n",
              " (1, 1): 22.0,\n",
              " (1, 3): 3.0,\n",
              " (2, 2): 25.0,\n",
              " (2, 3): 17.0}"
            ]
          },
          "metadata": {
            "tags": []
          },
          "execution_count": 3
        }
      ]
    },
    {
      "cell_type": "code",
      "metadata": {
        "colab": {
          "base_uri": "https://localhost:8080/",
          "height": 142
        },
        "id": "geHml1BcGI8r",
        "outputId": "a36082dd-67ec-4d1d-de5a-faec47fc07cb"
      },
      "source": [
        "#pandasを使う場合\n",
        "\n",
        "#表の作成\n",
        "a = pd.DataFrame([(i,j) for i,j in pr], columns=['Warehouse','Factory'])\n",
        "a['Transport_Cost'] = Transport_Cost.flatten()\n",
        "display(a[:3])"
      ],
      "execution_count": 4,
      "outputs": [
        {
          "output_type": "display_data",
          "data": {
            "text/html": [
              "<div>\n",
              "<style scoped>\n",
              "    .dataframe tbody tr th:only-of-type {\n",
              "        vertical-align: middle;\n",
              "    }\n",
              "\n",
              "    .dataframe tbody tr th {\n",
              "        vertical-align: top;\n",
              "    }\n",
              "\n",
              "    .dataframe thead th {\n",
              "        text-align: right;\n",
              "    }\n",
              "</style>\n",
              "<table border=\"1\" class=\"dataframe\">\n",
              "  <thead>\n",
              "    <tr style=\"text-align: right;\">\n",
              "      <th></th>\n",
              "      <th>Warehouse</th>\n",
              "      <th>Factory</th>\n",
              "      <th>Transport_Cost</th>\n",
              "    </tr>\n",
              "  </thead>\n",
              "  <tbody>\n",
              "    <tr>\n",
              "      <th>0</th>\n",
              "      <td>0</td>\n",
              "      <td>0</td>\n",
              "      <td>10</td>\n",
              "    </tr>\n",
              "    <tr>\n",
              "      <th>1</th>\n",
              "      <td>0</td>\n",
              "      <td>1</td>\n",
              "      <td>11</td>\n",
              "    </tr>\n",
              "    <tr>\n",
              "      <th>2</th>\n",
              "      <td>0</td>\n",
              "      <td>2</td>\n",
              "      <td>17</td>\n",
              "    </tr>\n",
              "  </tbody>\n",
              "</table>\n",
              "</div>"
            ],
            "text/plain": [
              "   Warehouse  Factory  Transport_Cost\n",
              "0          0        0              10\n",
              "1          0        1              11\n",
              "2          0        2              17"
            ]
          },
          "metadata": {
            "tags": []
          }
        }
      ]
    },
    {
      "cell_type": "code",
      "metadata": {
        "colab": {
          "base_uri": "https://localhost:8080/",
          "height": 235
        },
        "id": "KwKyZs_eNLs7",
        "outputId": "70e6e999-e9be-45cd-9325-7a8145635c9d"
      },
      "source": [
        "#問題の定義\n",
        "m2 = LpProblem()\n",
        "\n",
        "#変数の定義\n",
        "a['Var'] = [LpVariable('v%d'%i, lowBound=0) for i in a.index]\n",
        "\n",
        "#目的関数の定義\n",
        "m2 += lpDot(a.Transport_Cost, a.Var)\n",
        "\n",
        "#制約条件の定義\n",
        "for k, v in a.groupby('Warehouse'):\n",
        "    m2 += lpSum(v.Var) <= Supply[k]\n",
        "for k, v in a.groupby('Factory'):\n",
        "    m2 += lpSum(v.Var) >= Demand[k]\n",
        "\n",
        "#ソルバーの実装\n",
        "m2.solve()\n",
        "\n",
        "#結果表示\n",
        "a['Val'] = a.Var.apply(value)\n",
        "a[a.Val > 0]"
      ],
      "execution_count": 5,
      "outputs": [
        {
          "output_type": "execute_result",
          "data": {
            "text/html": [
              "<div>\n",
              "<style scoped>\n",
              "    .dataframe tbody tr th:only-of-type {\n",
              "        vertical-align: middle;\n",
              "    }\n",
              "\n",
              "    .dataframe tbody tr th {\n",
              "        vertical-align: top;\n",
              "    }\n",
              "\n",
              "    .dataframe thead th {\n",
              "        text-align: right;\n",
              "    }\n",
              "</style>\n",
              "<table border=\"1\" class=\"dataframe\">\n",
              "  <thead>\n",
              "    <tr style=\"text-align: right;\">\n",
              "      <th></th>\n",
              "      <th>Warehouse</th>\n",
              "      <th>Factory</th>\n",
              "      <th>Transport_Cost</th>\n",
              "      <th>Var</th>\n",
              "      <th>Val</th>\n",
              "    </tr>\n",
              "  </thead>\n",
              "  <tbody>\n",
              "    <tr>\n",
              "      <th>0</th>\n",
              "      <td>0</td>\n",
              "      <td>0</td>\n",
              "      <td>10</td>\n",
              "      <td>v0</td>\n",
              "      <td>28.0</td>\n",
              "    </tr>\n",
              "    <tr>\n",
              "      <th>1</th>\n",
              "      <td>0</td>\n",
              "      <td>1</td>\n",
              "      <td>11</td>\n",
              "      <td>v1</td>\n",
              "      <td>7.0</td>\n",
              "    </tr>\n",
              "    <tr>\n",
              "      <th>5</th>\n",
              "      <td>1</td>\n",
              "      <td>1</td>\n",
              "      <td>12</td>\n",
              "      <td>v5</td>\n",
              "      <td>22.0</td>\n",
              "    </tr>\n",
              "    <tr>\n",
              "      <th>7</th>\n",
              "      <td>1</td>\n",
              "      <td>3</td>\n",
              "      <td>15</td>\n",
              "      <td>v7</td>\n",
              "      <td>3.0</td>\n",
              "    </tr>\n",
              "    <tr>\n",
              "      <th>10</th>\n",
              "      <td>2</td>\n",
              "      <td>2</td>\n",
              "      <td>12</td>\n",
              "      <td>v10</td>\n",
              "      <td>25.0</td>\n",
              "    </tr>\n",
              "    <tr>\n",
              "      <th>11</th>\n",
              "      <td>2</td>\n",
              "      <td>3</td>\n",
              "      <td>14</td>\n",
              "      <td>v11</td>\n",
              "      <td>17.0</td>\n",
              "    </tr>\n",
              "  </tbody>\n",
              "</table>\n",
              "</div>"
            ],
            "text/plain": [
              "    Warehouse  Factory  Transport_Cost  Var   Val\n",
              "0           0        0              10   v0  28.0\n",
              "1           0        1              11   v1   7.0\n",
              "5           1        1              12   v5  22.0\n",
              "7           1        3              15   v7   3.0\n",
              "10          2        2              12  v10  25.0\n",
              "11          2        3              14  v11  17.0"
            ]
          },
          "metadata": {
            "tags": []
          },
          "execution_count": 5
        }
      ]
    },
    {
      "cell_type": "markdown",
      "metadata": {
        "id": "FoUBiHQNg6G8"
      },
      "source": [
        "このサイトの練習問題を少しアレンジして写経\n",
        "https://qiita.com/SaitoTsutomu/items/070ca9cb37c6b2b492f0"
      ]
    },
    {
      "cell_type": "code",
      "metadata": {
        "id": "oJnj4nzTg64i"
      },
      "source": [
        ""
      ],
      "execution_count": null,
      "outputs": []
    }
  ]
}
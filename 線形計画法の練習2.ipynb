{
  "nbformat": 4,
  "nbformat_minor": 0,
  "metadata": {
    "colab": {
      "name": "線形計画法の練習2.ipynb",
      "provenance": [],
      "collapsed_sections": [],
      "authorship_tag": "ABX9TyOQsRk43fXGP0UU6qcjuPLz",
      "include_colab_link": true
    },
    "kernelspec": {
      "name": "python3",
      "display_name": "Python 3"
    },
    "language_info": {
      "name": "python"
    }
  },
  "cells": [
    {
      "cell_type": "markdown",
      "metadata": {
        "id": "view-in-github",
        "colab_type": "text"
      },
      "source": [
        "<a href=\"https://colab.research.google.com/github/tosaka-naoya/carefree/blob/main/%E7%B7%9A%E5%BD%A2%E8%A8%88%E7%94%BB%E6%B3%95%E3%81%AE%E7%B7%B4%E7%BF%922.ipynb\" target=\"_parent\"><img src=\"https://colab.research.google.com/assets/colab-badge.svg\" alt=\"Open In Colab\"/></a>"
      ]
    },
    {
      "cell_type": "code",
      "metadata": {
        "colab": {
          "base_uri": "https://localhost:8080/"
        },
        "id": "K2cb6ElOz6x9",
        "outputId": "f74a6ec0-5954-477c-aa0f-3685db3d74df"
      },
      "source": [
        "#ライブラリのインポート\n",
        "!pip install pulp\n",
        "import pulp\n",
        "from pulp import *\n",
        "\n",
        "#問題の定義\n",
        "d = LpProblem(name=\"Diet\")\n",
        "\n",
        "#変数の定義\n",
        "A = LpVariable(name=\"A\", lowBound=0, cat=\"Integer\")\n",
        "B = LpVariable(name=\"B\", lowBound=0, cat=\"Integer\")\n",
        "C = LpVariable(name=\"C\", lowBound=0, cat=\"Integer\")\n",
        "\n",
        "#目的変数の定義\n",
        "d += 20*A + 12*B + 18*C\n",
        "\n",
        "#制約条件の定義\n",
        "d += 22*A + 13*B + 17*C >= 200\n",
        "d += 20*A + 30*B + 5*C >= 200\n",
        "d += 10*A + 5*B + 12*C >= 100\n",
        "\n",
        "#ソルバーの実装\n",
        "d.solve()\n",
        "\n",
        "#結果のまとめ表示\n",
        "print(\"Result\")\n",
        "print(\"A:\", value(A))\n",
        "print(\"B:\", value(B))\n",
        "print(\"C:\", value(C))"
      ],
      "execution_count": null,
      "outputs": [
        {
          "output_type": "stream",
          "text": [
            "Requirement already satisfied: pulp in /usr/local/lib/python3.7/dist-packages (2.4)\n",
            "Requirement already satisfied: amply>=0.1.2 in /usr/local/lib/python3.7/dist-packages (from pulp) (0.1.4)\n",
            "Requirement already satisfied: pyparsing in /usr/local/lib/python3.7/dist-packages (from amply>=0.1.2->pulp) (2.4.7)\n",
            "Requirement already satisfied: docutils>=0.3 in /usr/local/lib/python3.7/dist-packages (from amply>=0.1.2->pulp) (0.17.1)\n",
            "Result\n",
            "A: 5.0\n",
            "B: 3.0\n",
            "C: 3.0\n"
          ],
          "name": "stdout"
        }
      ]
    },
    {
      "cell_type": "markdown",
      "metadata": {
        "id": "3LdtuXWwiaHK"
      },
      "source": [
        "このサイトの練習問題を少しアレンジして写経\n",
        "https://www.y-shinno.com/pulp-intro/"
      ]
    }
  ]
}
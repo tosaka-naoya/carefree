{
  "nbformat": 4,
  "nbformat_minor": 0,
  "metadata": {
    "colab": {
      "name": "線形計画法の練習4.ipynb",
      "provenance": [],
      "collapsed_sections": [],
      "authorship_tag": "ABX9TyMgpc0+momZ7qxsgHMudd2v",
      "include_colab_link": true
    },
    "kernelspec": {
      "name": "python3",
      "display_name": "Python 3"
    },
    "language_info": {
      "name": "python"
    }
  },
  "cells": [
    {
      "cell_type": "markdown",
      "metadata": {
        "id": "view-in-github",
        "colab_type": "text"
      },
      "source": [
        "<a href=\"https://colab.research.google.com/github/tosaka-naoya/carefree/blob/main/%E7%B7%9A%E5%BD%A2%E8%A8%88%E7%94%BB%E6%B3%95%E3%81%AE%E7%B7%B4%E7%BF%924.ipynb\" target=\"_parent\"><img src=\"https://colab.research.google.com/assets/colab-badge.svg\" alt=\"Open In Colab\"/></a>"
      ]
    },
    {
      "cell_type": "markdown",
      "metadata": {
        "id": "EXNB98VvnAQ2"
      },
      "source": [
        "## ナップザック問題"
      ]
    },
    {
      "cell_type": "code",
      "metadata": {
        "colab": {
          "base_uri": "https://localhost:8080/"
        },
        "id": "WV_nUNJXk6Co",
        "outputId": "f649b1e1-f231-4c56-c78b-3d76da2388bc"
      },
      "source": [
        "#ライブラリのインポート\n",
        "!pip install ortoolpy\n",
        "from ortoolpy import knapsack\n",
        "\n",
        "#変数の定義\n",
        "size = [21,11,15,9,34,25,41,52]\n",
        "weight = [22,12,16,10,35,26,42,53]\n",
        "capacity = 100\n",
        "\n",
        "#典型問題ソルバーの実装\n",
        "print()\n",
        "knapsack(size, weight, capacity)"
      ],
      "execution_count": 1,
      "outputs": [
        {
          "output_type": "stream",
          "text": [
            "Requirement already satisfied: ortoolpy in /usr/local/lib/python3.7/dist-packages (0.2.38)\n",
            "Requirement already satisfied: pulp<3.0.0,>=2.3.1 in /usr/local/lib/python3.7/dist-packages (from ortoolpy) (2.4)\n",
            "Requirement already satisfied: more-itertools<9.0.0,>=8.6.0 in /usr/local/lib/python3.7/dist-packages (from ortoolpy) (8.7.0)\n",
            "Requirement already satisfied: pandas<2.0.0,>=1.1.4 in /usr/local/lib/python3.7/dist-packages (from ortoolpy) (1.1.5)\n",
            "Requirement already satisfied: amply>=0.1.2 in /usr/local/lib/python3.7/dist-packages (from pulp<3.0.0,>=2.3.1->ortoolpy) (0.1.4)\n",
            "Requirement already satisfied: python-dateutil>=2.7.3 in /usr/local/lib/python3.7/dist-packages (from pandas<2.0.0,>=1.1.4->ortoolpy) (2.8.1)\n",
            "Requirement already satisfied: pytz>=2017.2 in /usr/local/lib/python3.7/dist-packages (from pandas<2.0.0,>=1.1.4->ortoolpy) (2018.9)\n",
            "Requirement already satisfied: numpy>=1.15.4 in /usr/local/lib/python3.7/dist-packages (from pandas<2.0.0,>=1.1.4->ortoolpy) (1.19.5)\n",
            "Requirement already satisfied: docutils>=0.3 in /usr/local/lib/python3.7/dist-packages (from amply>=0.1.2->pulp<3.0.0,>=2.3.1->ortoolpy) (0.17.1)\n",
            "Requirement already satisfied: pyparsing in /usr/local/lib/python3.7/dist-packages (from amply>=0.1.2->pulp<3.0.0,>=2.3.1->ortoolpy) (2.4.7)\n",
            "Requirement already satisfied: six>=1.5 in /usr/local/lib/python3.7/dist-packages (from python-dateutil>=2.7.3->pandas<2.0.0,>=1.1.4->ortoolpy) (1.15.0)\n",
            "\n"
          ],
          "name": "stdout"
        },
        {
          "output_type": "execute_result",
          "data": {
            "text/plain": [
              "(105.0, [0, 1, 3, 4, 5])"
            ]
          },
          "metadata": {
            "tags": []
          },
          "execution_count": 1
        }
      ]
    },
    {
      "cell_type": "code",
      "metadata": {
        "colab": {
          "base_uri": "https://localhost:8080/"
        },
        "id": "dy1TiOusoTjO",
        "outputId": "98e7858a-427a-4f3c-acb8-5ac47155d71d"
      },
      "source": [
        "#ライブラリのインポート\n",
        "!pip install pulp\n",
        "from pulp import *\n",
        "\n",
        "#変数の定義\n",
        "size = [21,11,15,9,34,25,41,52]\n",
        "weight = [22,12,16,10,35,26,42,53]\n",
        "capacity = 100\n",
        "r = range(len(size))\n",
        "\n",
        "#問題の定義\n",
        "m = LpProblem(sense=LpMaximize)\n",
        "\n",
        "#定式化用の変数の定義\n",
        "x = [LpVariable('x%d'%i, cat=LpBinary) for i in r]\n",
        "\n",
        "#目的関数の定義\n",
        "m += lpDot(weight, x)\n",
        "\n",
        "#制約条件の定義\n",
        "m += lpDot(size, x) <= capacity\n",
        "\n",
        "#汎用問題ソルバーの実装\n",
        "m.solve()\n",
        "\n",
        "#結果表示\n",
        "print()\n",
        "print((value(m.objective), [i for i in r if value(x[i]) > 0.5]))"
      ],
      "execution_count": 2,
      "outputs": [
        {
          "output_type": "stream",
          "text": [
            "Requirement already satisfied: pulp in /usr/local/lib/python3.7/dist-packages (2.4)\n",
            "Requirement already satisfied: amply>=0.1.2 in /usr/local/lib/python3.7/dist-packages (from pulp) (0.1.4)\n",
            "Requirement already satisfied: docutils>=0.3 in /usr/local/lib/python3.7/dist-packages (from amply>=0.1.2->pulp) (0.17.1)\n",
            "Requirement already satisfied: pyparsing in /usr/local/lib/python3.7/dist-packages (from amply>=0.1.2->pulp) (2.4.7)\n",
            "\n",
            "(105.0, [0, 1, 3, 4, 5])\n"
          ],
          "name": "stdout"
        }
      ]
    },
    {
      "cell_type": "markdown",
      "metadata": {
        "id": "1TTsOhN7nFp3"
      },
      "source": [
        "## 最短路問題"
      ]
    },
    {
      "cell_type": "code",
      "metadata": {
        "colab": {
          "base_uri": "https://localhost:8080/"
        },
        "id": "ptA6u5UhnHkE",
        "outputId": "1caee212-7924-4c0b-82a3-fe0368f3a9b2"
      },
      "source": [
        "#ライブラリのインポート\n",
        "!pip install networkx\n",
        "import networkx as nx\n",
        "\n",
        "#変数の定義\n",
        "g = nx.fast_gnp_random_graph(8,0.26,1)\n",
        "\n",
        "#ソルバーの実装\n",
        "print()\n",
        "nx.dijkstra_path(g,0,2)"
      ],
      "execution_count": 3,
      "outputs": [
        {
          "output_type": "stream",
          "text": [
            "Requirement already satisfied: networkx in /usr/local/lib/python3.7/dist-packages (2.5.1)\n",
            "Requirement already satisfied: decorator<5,>=4.3 in /usr/local/lib/python3.7/dist-packages (from networkx) (4.4.2)\n",
            "\n"
          ],
          "name": "stdout"
        },
        {
          "output_type": "execute_result",
          "data": {
            "text/plain": [
              "[0, 1, 6, 3, 5, 2]"
            ]
          },
          "metadata": {
            "tags": []
          },
          "execution_count": 3
        }
      ]
    },
    {
      "cell_type": "code",
      "metadata": {
        "colab": {
          "base_uri": "https://localhost:8080/"
        },
        "id": "riQSpmG6ni-M",
        "outputId": "3a8e4daa-be49-4b4c-fdc1-0f141342a1a3"
      },
      "source": [
        "#ライブラリのインポート\n",
        "from pulp import *\n",
        "import networkx as nx\n",
        "\n",
        "#変数の定義\n",
        "g = nx.fast_gnp_random_graph(8, 0.26 , 1).to_directed()\n",
        "r = list(enumerate(g.edges()))\n",
        "\n",
        "#始点と終点の定義\n",
        "source, sink = 0,2\n",
        "\n",
        "#問題の定義\n",
        "m = LpProblem()\n",
        "\n",
        "#定式化用の変数の定義\n",
        "x = [LpVariable('x%d'%k, lowBound=0, upBound=1) for k, (i,j) in r]\n",
        "\n",
        "#目的関数の定義\n",
        "m += lpSum(x)\n",
        "\n",
        "#制約条件の定義\n",
        "for nd in g.nodes():\n",
        "    m += lpSum(x[k] for k, (i, j) in r if i == nd) \\\n",
        "       == lpSum(x[k] for k, (i, j) in r if j == nd) + {source:1, sink:-1}.get(nd, 0)\n",
        "\n",
        "#汎用問題ソルバーの実装\n",
        "m.solve()\n",
        "\n",
        "#結果表示\n",
        "print([(i, j) for k, (i, j) in r if value(x[k]) > 0.5])"
      ],
      "execution_count": 4,
      "outputs": [
        {
          "output_type": "stream",
          "text": [
            "[(0, 1), (1, 6), (3, 5), (5, 2), (6, 3)]\n"
          ],
          "name": "stdout"
        }
      ]
    },
    {
      "cell_type": "markdown",
      "metadata": {
        "id": "xQmP9x6CspGZ"
      },
      "source": [
        "## ポートフォリオ最適化問題"
      ]
    },
    {
      "cell_type": "code",
      "metadata": {
        "colab": {
          "base_uri": "https://localhost:8080/"
        },
        "id": "IbBJpO5zsc1o",
        "outputId": "58035857-f93f-4dc7-beeb-5c528d2667cc"
      },
      "source": [
        "#ライブラリのインポート\n",
        "import numpy as np, scipy.optimize as so\n",
        "\n",
        "#変数の定義\n",
        "p = [31,86,29,73,46,39,58]\n",
        "v = [10,60,25,50,35,30,40]\n",
        "t = 50\n",
        "\n",
        "#典型問題ソルバーの実装\n",
        "so.fmin_slsqp(lambda x: sum(v*x*x), np.zeros(len(p)),\n",
        "              eqcons=[lambda x: sum(x) - 1], ieqcons=[lambda x: sum(p*x) - t])"
      ],
      "execution_count": 5,
      "outputs": [
        {
          "output_type": "stream",
          "text": [
            "Optimization terminated successfully.    (Exit mode 0)\n",
            "            Current function value: 4.50899167486802\n",
            "            Iterations: 14\n",
            "            Function evaluations: 136\n",
            "            Gradient evaluations: 14\n"
          ],
          "name": "stdout"
        },
        {
          "output_type": "execute_result",
          "data": {
            "text/plain": [
              "array([0.26829785, 0.13279566, 0.09965076, 0.1343941 , 0.11783349,\n",
              "       0.11506705, 0.13196109])"
            ]
          },
          "metadata": {
            "tags": []
          },
          "execution_count": 5
        }
      ]
    },
    {
      "cell_type": "markdown",
      "metadata": {
        "id": "rkH21EdL7rQ-"
      },
      "source": [
        "このサイトの練習問題を少しアレンジして写経\n",
        "https://qiita.com/SaitoTsutomu/items/bfbf4c185ed7004b5721"
      ]
    }
  ]
}